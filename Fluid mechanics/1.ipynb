{
 "cells": [
  {
   "cell_type": "markdown",
   "metadata": {},
   "source": [
    "## Venturi Effect\n",
    "\n",
    "![Venturi Tube](https://upload.wikimedia.org/wikipedia/commons/4/4b/Venturi5.svg)\n",
    "\n",
    "The **Venturi effect** is the reduction in fluid pressure that results when a fluid flows through a constricted section (or choke) of a pipe. The phenomenon is named after Italian physicist Giovanni Battista Venturi (1746–1822), who first described it in 1797.\n",
    "\n",
    "## Description\n",
    "\n",
    "The diagram above illustrates the principle of the Venturi effect:\n",
    "\n",
    "- **Constriction:** The fluid (represented by the blue arrows) flows through a pipe that narrows at the center, creating a constriction in the flow.\n",
    "- **Pressure Difference:** As the fluid passes through the narrow section, its velocity increases, and according to Bernoulli's principle, its pressure decreases.\n",
    "- **Flow Regeneration:** After passing through the constriction, the fluid returns to its original diameter, and its velocity and pressure return to their original values.\n",
    "\n",
    "## Applications\n",
    "\n",
    "The Venturi effect has several practical applications in various fields, including:\n",
    "\n",
    "- **Carburetors:** In internal combustion engines, the Venturi effect is used in carburetors to mix air and fuel efficiently.\n",
    "- **Aircraft Design:** It is used in the design of aircraft wings to generate lift.\n",
    "- **Medical Devices:** The Venturi effect is utilized in medical devices such as oxygen masks and nebulizers to control the flow of gases and liquids.\n",
    "\n",
    "## Mathematical Expression\n",
    "\n",
    "The change in pressure due to the Venturi effect can be calculated using the following equation:\n",
    "\n",
    "\\[\n",
    "\\Delta P = \\frac{1}{2} \\rho v^2 \\left( \\frac{{A_1^2 - A_2^2}}{{A_1^2}} \\right)\n",
    "\\]\n",
    "\n",
    "where:\n",
    "\n",
    "- \\( \\Delta P \\) is the pressure difference,\n",
    "- \\( \\rho \\) is the fluid density,\n",
    "- \\( v \\) is the fluid velocity,\n",
    "- \\( A_1 \\) is the area of the wider section of the pipe, and\n",
    "- \\( A_2 \\) is the area of the narrower section of the pipe.\n"
   ]
  },
  {
   "cell_type": "code",
   "execution_count": 2,
   "metadata": {},
   "outputs": [
    {
     "name": "stdout",
     "output_type": "stream",
     "text": [
      "The fluid velocity in the narrower section of the pipe is 0.75 m/s.\n"
     ]
    }
   ],
   "source": [
    "# Function to calculate speed\n",
    "def calculate_speed(A1, A2, v1):\n",
    "    v2 = ((A1 ** 2 - A2 ** 2) / A1 ** 2) * v1 ** 2\n",
    "    return v2\n",
    "\n",
    "# Input values from the user\n",
    "A1 = float(input(\"Enter the area of the wider section of the pipe (in m^2): \"))\n",
    "A2 = float(input(\"Enter the area of the narrower section of the pipe (in m^2): \"))\n",
    "v1 = float(input(\"Enter the fluid velocity in the wider section of the pipe (in m/s): \"))\n",
    "\n",
    "# Calculate speed in the narrower section\n",
    "v2 = calculate_speed(A1, A2, v1)\n",
    "\n",
    "# Display the result\n",
    "print(f\"The fluid velocity in the narrower section of the pipe is {v2:.2f} m/s.\")\n"
   ]
  }
 ],
 "metadata": {
  "kernelspec": {
   "display_name": "Python 3",
   "language": "python",
   "name": "python3"
  },
  "language_info": {
   "codemirror_mode": {
    "name": "ipython",
    "version": 3
   },
   "file_extension": ".py",
   "mimetype": "text/x-python",
   "name": "python",
   "nbconvert_exporter": "python",
   "pygments_lexer": "ipython3",
   "version": "3.11.4"
  }
 },
 "nbformat": 4,
 "nbformat_minor": 2
}
